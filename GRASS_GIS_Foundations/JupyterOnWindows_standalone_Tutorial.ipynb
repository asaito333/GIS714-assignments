{
 "cells": [
  {
   "cell_type": "markdown",
   "metadata": {
    "tags": []
   },
   "source": [
    "# Running GRASS in Jupyter Notebooks in Windows\n",
    "\n",
    "## Set Up\n",
    "\n",
    "On Windows, we need to launch GRASS then launch Jupyter Lab within GRASS. This is a little more complex than Linux and Mac where we can just launch Jupyter Lab directly from the command line without starting GRASS first. Follow the directions below to setup Jupyter and GRASS in Windows.\n",
    "\n",
    "##### *1. Install GRASS*\n",
    "> Install GRASS (version >= 8.2) with the standalone installer from [here](https://grass.osgeo.org/download/windows/).\n",
    "\n",
    "##### *2. Launch GRASS GIS as Administrator*\n",
    "> Launch GRASS GIS as Admin by right clicking on GRASS from the Windows start up menu and selecting \"Run as Administrator\". If you don't see this option, go to \"More\" then select \"Open File Location\". In the new File Explorer window that opens, right click on GRASS GIS and select \"Run as Administrator\". We need to be in Admin mode so that when we install Jupyter, it installs inside `Program Files` instead of inside your user profile.\n",
    "\n",
    "##### *3. Install Jupyter Lab and `grass.jupyter` dependencies*\n",
    ">Next, we'll need to install Jupyter Lab (which contains Jupyter Notebook along with some additional functionality like being able to browse directories). Installing Jupyter Lab is easy since we have Pip installed with GRASS GIS. In the terminal that has launched with GRASS, run:\n",
    ">\n",
    ">`python -m pip install jupyterlab folium ipywidgets`\n",
    "\n",
    "##### *4. Close GRASS GIS and Relaunch GRASS GIS*\n",
    "> Now that we've installed Jupyter Lab, we quit GRASS GIS with the `exit` command then re-open it from the Window's start up menu (no need to run as an administrator anymore).\n",
    "\n",
    "##### *3. Add GRASS to path variables*\n",
    "> In your system's advanced settings, under Environment Variables, add GRASS to the path variables list (replace VERSION with your installed version):\n",
    ">\n",
    "> `C:\\Program Files\\GRASS GIS 8.{VERSION}\\`\n",
    "\n",
    "##### *6. Launch Jupyter Lab*\n",
    ">We're ready to launch jupyterlab now. Go back to your GRASS GIS Terminal and launch it with: \n",
    ">\n",
    ">`python -m jupyter lab`\n",
    ">\n",
    ">This should launch jupyter lab in a your default web browser. Use the left side panel to navigate to the notebook you wish to run and you're ready to go!\n",
    "\n",
    "##### *7. Launching Jupyter Lab in the Future*\n",
    ">To launch Jupyter Lab from GRASS in the future:\n",
    ">1. Open GRASS Command Line\n",
    ">2. Launch jupyter lab with `python -m jupyter lab`\n"
   ]
  },
  {
   "cell_type": "markdown",
   "metadata": {},
   "source": [
    "## Start\n",
    "\n",
    "When using Python in notebook, we usually find GRASS GIS Python packages, import them, initialize GRASS GIS session, and set several variables useful for using GRASS GIS in a notebook."
   ]
  },
  {
   "cell_type": "code",
   "execution_count": null,
   "metadata": {
    "tags": []
   },
   "outputs": [],
   "source": [
    "# Import Python standard library and IPython packages we need.\n",
    "import os\n",
    "import sys\n",
    "import subprocess\n",
    "from IPython.display import Image\n",
    "\n",
    "# Ask GRASS GIS where its Python packages are.\n",
    "grass_call = \"grass82\"\n",
    "sys.path.append(\n",
    "    subprocess.check_output([grass_call, \"--config\", \"python_path\"], text=True, shell=True).strip()\n",
    ")\n",
    "\n",
    "# Import the GRASS GIS packages we need.\n",
    "import grass.script as gs\n",
    "import grass.jupyter as gj\n",
    "\n",
    "# Create a GRASS GIS session.\n",
    "gj.init(\"./../data\", \"nc_spm_08_grass7\", \"user1\")"
   ]
  },
  {
   "cell_type": "markdown",
   "metadata": {},
   "source": [
    "## Using GRASS\n",
    "\n",
    "Now that we have GRASS GIS running in our notebook, let's try some basic commands. \n",
    "\n",
    "In this section, we create an elevation map from the sample GRASS GIS dataset for North Carolina, USA. \n",
    "\n",
    "First, we set computational region."
   ]
  },
  {
   "cell_type": "code",
   "execution_count": null,
   "metadata": {
    "tags": []
   },
   "outputs": [],
   "source": [
    "# Set computational region to the study area.\n",
    "gs.parse_command('g.region', raster=\"elevation\", flags='pg')\n",
    "# Set colors for elevation raster\n",
    "gs.run_command('r.colors', map=\"elevation\", color=\"elevation\")"
   ]
  },
  {
   "cell_type": "markdown",
   "metadata": {},
   "source": [
    "Then, we'll make our first map."
   ]
  },
  {
   "cell_type": "code",
   "execution_count": null,
   "metadata": {
    "tags": []
   },
   "outputs": [],
   "source": [
    "# Create Map instance\n",
    "img = gj.Map()\n",
    "# Add a raster, vector and legend to the map\n",
    "img.d_rast(map=\"elevation\")\n",
    "img.d_legend(raster=\"elevation\", at=(55, 95, 80, 84), flags=\"b\")\n",
    "# Display map\n",
    "img.show()"
   ]
  },
  {
   "cell_type": "markdown",
   "metadata": {},
   "source": [
    "Now, we're up and running! It may be useful to copy the paths from Step 7 somewhere easy to find for the future."
   ]
  },
  {
   "cell_type": "code",
   "execution_count": null,
   "metadata": {},
   "outputs": [],
   "source": []
  }
 ],
 "metadata": {
  "kernelspec": {
   "display_name": "Python 3 (ipykernel)",
   "language": "python",
   "name": "python3"
  },
  "language_info": {
   "codemirror_mode": {
    "name": "ipython",
    "version": 3
   },
   "file_extension": ".py",
   "mimetype": "text/x-python",
   "name": "python",
   "nbconvert_exporter": "python",
   "pygments_lexer": "ipython3",
   "version": "3.9.5"
  }
 },
 "nbformat": 4,
 "nbformat_minor": 4
}
